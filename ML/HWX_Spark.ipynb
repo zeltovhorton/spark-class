{
 "cells": [
  {
   "cell_type": "code",
   "execution_count": 35,
   "metadata": {
    "collapsed": false
   },
   "outputs": [],
   "source": [
    "import sys\n",
    "import os\n",
    "\n",
    "baseDir         = os.path.join('movielens')\n",
    "ratingsFilename = os.path.join(baseDir, 'ratings.dat.gz')\n",
    "moviesFilename  = os.path.join(baseDir, 'movies.dat')\n",
    "\n",
    "numPartitions = 2\n",
    "rawRatings = sc.textFile(ratingsFilename).repartition(numPartitions)\n",
    "rawMovies  = sc.textFile(moviesFilename)"
   ]
  },
  {
   "cell_type": "code",
   "execution_count": 36,
   "metadata": {
    "collapsed": true
   },
   "outputs": [],
   "source": [
    "def get_ratings_tuple(entry):\n",
    "    items = entry.split('::')\n",
    "    return int(items[0]), int(items[1]), float(items[2])\n",
    "\n",
    "def get_movie_tuple(entry):\n",
    "    items = entry.split('::')\n",
    "    return int(items[0]), items[1]\n",
    "\n",
    "ratingsRDD = rawRatings.map(get_ratings_tuple).cache()\n",
    "moviesRDD = rawMovies.map(get_movie_tuple).cache()"
   ]
  },
  {
   "cell_type": "code",
   "execution_count": 37,
   "metadata": {
    "collapsed": false
   },
   "outputs": [
    {
     "name": "stdout",
     "output_type": "stream",
     "text": [
      "Ratings: [(1, 1193, 5.0), (1, 914, 3.0)]\n",
      "Movies: [(1, u'Toy Story (1995)'), (2, u'Jumanji (1995)')]\n"
     ]
    }
   ],
   "source": [
    "print 'Ratings: %s' % ratingsRDD.take(2)\n",
    "print 'Movies: %s' % moviesRDD.take(2)"
   ]
  },
  {
   "cell_type": "code",
   "execution_count": 38,
   "metadata": {
    "collapsed": true
   },
   "outputs": [],
   "source": [
    "movieIDsWithRatingsRDD = (ratingsRDD\n",
    "                          .map(lambda (user_id,movie_id,rating): (movie_id,[rating]))\n",
    "                          .reduceByKey(lambda a,b: a+b))\n",
    "\n",
    "def getCountsAndAverages(RatingsTuple):\n",
    "    total = 0.0\n",
    "    for rating in RatingsTuple[1]:\n",
    "        total += rating\n",
    "    return (RatingsTuple[0],(len(RatingsTuple[1]),total/len(RatingsTuple[1])))\n",
    "\n",
    "movieIDsWithAvgRatingsRDD = movieIDsWithRatingsRDD.map(getCountsAndAverages)\n",
    "\n",
    "movieNameWithAvgRatingsRDD = (moviesRDD\n",
    "                .join(movieIDsWithAvgRatingsRDD)\n",
    "                .map(lambda (movieid,(name,(ratings, average))): (average, name, ratings)))"
   ]
  },
  {
   "cell_type": "code",
   "execution_count": 39,
   "metadata": {
    "collapsed": false
   },
   "outputs": [
    {
     "name": "stdout",
     "output_type": "stream",
     "text": [
      "movieNameWithAvgRatingsRDD: [(3.6818181818181817, u'Happiest Millionaire, The (1967)', 22), (3.0468227424749164, u'Grumpier Old Men (1995)', 299), (2.882978723404255, u'Hocus Pocus (1993)', 94)]\n",
      "\n"
     ]
    }
   ],
   "source": [
    "print 'movieNameWithAvgRatingsRDD: %s\\n' % movieNameWithAvgRatingsRDD.take(3)"
   ]
  },
  {
   "cell_type": "code",
   "execution_count": 40,
   "metadata": {
    "collapsed": false
   },
   "outputs": [],
   "source": [
    "def sortFunction(tuple):\n",
    "    key = unicode('%.3f' % tuple[0])\n",
    "    value = tuple[1]\n",
    "    return (key + ' ' + value)\n",
    "\n",
    "movieLimitedAndSortedByRatingRDD = (movieNameWithAvgRatingsRDD\n",
    "                                    .filter(lambda (average, name, ratings): ratings > 500)\n",
    "                                    .sortBy(sortFunction, False))"
   ]
  },
  {
   "cell_type": "code",
   "execution_count": 41,
   "metadata": {
    "collapsed": false
   },
   "outputs": [
    {
     "name": "stdout",
     "output_type": "stream",
     "text": [
      "Movies with highest ratings: [(4.5349264705882355, u'Shawshank Redemption, The (1994)', 1088), (4.515798462852263, u\"Schindler's List (1993)\", 1171), (4.512893982808023, u'Godfather, The (1972)', 1047), (4.510460251046025, u'Raiders of the Lost Ark (1981)', 1195), (4.505415162454874, u'Usual Suspects, The (1995)', 831), (4.457256461232604, u'Rear Window (1954)', 503), (4.45468509984639, u'Dr. Strangelove or: How I Learned to Stop Worrying and Love the Bomb (1963)', 651), (4.43953006219765, u'Star Wars: Episode IV - A New Hope (1977)', 1447), (4.4, u'Sixth Sense, The (1999)', 1110), (4.394285714285714, u'North by Northwest (1959)', 700), (4.379506641366224, u'Citizen Kane (1941)', 527), (4.375, u'Casablanca (1942)', 776), (4.363975155279503, u'Godfather: Part II, The (1974)', 805), (4.358816276202219, u\"One Flew Over the Cuckoo's Nest (1975)\", 811), (4.358173076923077, u'Silence of the Lambs, The (1991)', 1248), (4.335826477187734, u'Saving Private Ryan (1998)', 1337), (4.326241134751773, u'Chinatown (1974)', 564), (4.325383304940375, u'Life Is Beautiful (La Vita \\ufffd bella) (1997)', 587), (4.324110671936759, u'Monty Python and the Holy Grail (1974)', 759), (4.3096, u'Matrix, The (1999)', 1250)]\n"
     ]
    }
   ],
   "source": [
    "print 'Movies with highest ratings: %s' % movieLimitedAndSortedByRatingRDD.take(20)"
   ]
  },
  {
   "cell_type": "code",
   "execution_count": 42,
   "metadata": {
    "collapsed": false
   },
   "outputs": [
    {
     "name": "stdout",
     "output_type": "stream",
     "text": [
      "Training: 292716, validation: 96902, test: 98032\n",
      "\n"
     ]
    }
   ],
   "source": [
    "trainingRDD, validationRDD, testRDD = ratingsRDD.randomSplit([6, 2, 2], seed=0L)\n",
    "\n",
    "print 'Training: %s, validation: %s, test: %s\\n' % (trainingRDD.count(),\n",
    "                                                    validationRDD.count(),\n",
    "                                                    testRDD.count())"
   ]
  },
  {
   "cell_type": "code",
   "execution_count": 43,
   "metadata": {
    "collapsed": true
   },
   "outputs": [],
   "source": [
    "import math\n",
    "\n",
    "def computeError(predictedRDD, actualRDD):\n",
    "    predictedReformattedRDD = (predictedRDD\n",
    "            .map(lambda (UserID, MovieID, Rating):((UserID, MovieID), Rating)) )\n",
    "                               \n",
    "    actualReformattedRDD = (actualRDD\n",
    "            .map(lambda (UserID, MovieID, Rating):((UserID, MovieID), Rating)) )\n",
    "    \n",
    "    squaredErrorsRDD = (predictedReformattedRDD\n",
    "                        .join(actualReformattedRDD)\n",
    "                        .map(lambda (k,(a,b)): math.pow((a-b),2)))\n",
    "\n",
    "    totalError = squaredErrorsRDD.reduce(lambda a,b: a+b)\n",
    "    numRatings = squaredErrorsRDD.count()\n",
    "\n",
    "    return math.sqrt(float(totalError)/numRatings)"
   ]
  },
  {
   "cell_type": "code",
   "execution_count": 44,
   "metadata": {
    "collapsed": false
   },
   "outputs": [
    {
     "name": "stdout",
     "output_type": "stream",
     "text": [
      "For rank 4 the RMSE is 0.892734779484\n",
      "For rank 8 the RMSE is 0.890121292255\n",
      "For rank 12 the RMSE is 0.890216118367\n",
      "The best model was trained with rank 8\n"
     ]
    }
   ],
   "source": [
    "from pyspark.mllib.recommendation import ALS\n",
    "\n",
    "validationForPredictRDD = validationRDD.map(lambda (UserID, MovieID, Rating): (UserID, MovieID))\n",
    "\n",
    "ranks = [4, 8, 12]\n",
    "errors = [0, 0, 0]\n",
    "err = 0\n",
    "\n",
    "minError = float('inf')\n",
    "bestRank = -1\n",
    "bestIteration = -1\n",
    "for rank in ranks:\n",
    "    model = ALS.train(trainingRDD, rank, seed=5L, iterations=5, lambda_=0.1)\n",
    "    predictedRatingsRDD = model.predictAll(validationForPredictRDD)\n",
    "    error = computeError(predictedRatingsRDD, validationRDD)\n",
    "    errors[err] = error\n",
    "    err += 1\n",
    "    print 'For rank %s the RMSE is %s' % (rank, error)\n",
    "    if error < minError:\n",
    "        minError = error\n",
    "        bestRank = rank\n",
    "\n",
    "print 'The best model was trained with rank %s' % bestRank"
   ]
  },
  {
   "cell_type": "code",
   "execution_count": 45,
   "metadata": {
    "collapsed": false
   },
   "outputs": [
    {
     "name": "stdout",
     "output_type": "stream",
     "text": [
      "The model had a RMSE on the test set of 0.891048561304\n"
     ]
    }
   ],
   "source": [
    "myModel = ALS.train(trainingRDD, 8, seed=5L, iterations=5, lambda_=0.1)\n",
    "\n",
    "testForPredictingRDD = testRDD.map(lambda (UserID, MovieID, Rating): (UserID, MovieID))\n",
    "\n",
    "predictedTestRDD = myModel.predictAll(testForPredictingRDD)\n",
    "\n",
    "testRMSE = computeError(testRDD, predictedTestRDD)\n",
    "\n",
    "print 'The model had a RMSE on the test set of %s' % testRMSE"
   ]
  },
  {
   "cell_type": "code",
   "execution_count": 46,
   "metadata": {
    "collapsed": true
   },
   "outputs": [],
   "source": [
    "myRatedMovies = [                                   # Rating\n",
    "    (0, 845,5.0),  # Blade Runner (1982)            - 5.0/5\n",
    "    (0, 789,4.5),  # Good Will Hunting (1997)       - 4.5/5\n",
    "    (0, 983,4.8),  # Christmas Story, A (1983)      - 4.8/5\n",
    "    (0, 551,2.0),  # Taxi Driver (1976)             - 2.0/5\n",
    "    (0,1039,2.0),  # Pulp Fiction (1994)            - 2.0/5\n",
    "    (0, 651,5.0),  # Dr. Strangelove (1963)         - 5.0/5\n",
    "    (0,1195,4.0),  # Raiders of the Lost Ark (1981) - 4.0/5\n",
    "    (0,1110,5.0),  # Sixth Sense, The (1999)        - 4.5/5\n",
    "    (0,1250,4.5),  # Matrix, The (1999)             - 4.5/5\n",
    "    (0,1083,4.0)   # Princess Bride, The (1987)     - 4.0/5\n",
    "    ]\n",
    "myRatingsRDD = sc.parallelize(myRatedMovies)"
   ]
  },
  {
   "cell_type": "code",
   "execution_count": 47,
   "metadata": {
    "collapsed": false,
    "scrolled": true
   },
   "outputs": [
    {
     "name": "stdout",
     "output_type": "stream",
     "text": [
      "The model had a RMSE on the test set of 0.892023318284\n"
     ]
    }
   ],
   "source": [
    "trainingWithMyRatingsRDD = myRatingsRDD.union(trainingRDD)\n",
    "myRatingsModel = ALS.train(trainingWithMyRatingsRDD, 8, seed=5L, iterations=5, lambda_=0.1)\n",
    "predictedTestMyRatingsRDD = myRatingsModel.predictAll(testForPredictingRDD)\n",
    "testRMSEMyRatings = computeError(testRDD, predictedTestMyRatingsRDD)\n",
    "\n",
    "print 'The model had a RMSE on the test set of %s' % testRMSEMyRatings"
   ]
  },
  {
   "cell_type": "code",
   "execution_count": 48,
   "metadata": {
    "collapsed": false
   },
   "outputs": [
    {
     "name": "stdout",
     "output_type": "stream",
     "text": [
      "[Rating(user=0, product=1084, rating=3.1777819449083786)]\n"
     ]
    }
   ],
   "source": [
    "myUnratedMoviesRDD = (moviesRDD\n",
    "                      .map(lambda (movieID, name): movieID)\n",
    "                      .filter(lambda movieID: movieID not in [ mine[1] for mine in myRatedMovies] )\n",
    "                      .map(lambda movieID: (0, movieID)))\n",
    "\n",
    "predictedRatingsRDD = myRatingsModel.predictAll(myUnratedMoviesRDD)\n",
    "print predictedRatingsRDD.take(1)"
   ]
  },
  {
   "cell_type": "code",
   "execution_count": 49,
   "metadata": {
    "collapsed": false
   },
   "outputs": [
    {
     "name": "stdout",
     "output_type": "stream",
     "text": [
      "My highest rated movies as predicted (for movies with more than 75 reviews):\n",
      "(4.823536053603062, u'Once Upon a Time in the West (1969)', 82)\n",
      "(4.743456934724456, u'Texas Chainsaw Massacre, The (1974)', 111)\n",
      "(4.452221024980805, u'Evil Dead II (Dead By Dawn) (1987)', 305)\n",
      "(4.387531237859994, u'Duck Soup (1933)', 279)\n",
      "(4.373821653377477, u'Citizen Kane (1941)', 527)\n",
      "(4.344480264132989, u'Cabin Boy (1994)', 95)\n",
      "(4.332264360095111, u'Shaft (1971)', 85)\n",
      "(4.217371529794628, u'Night of the Living Dead (1968)', 352)\n",
      "(4.181318251399025, u'Yojimbo (1961)', 110)\n",
      "(4.1717902728073835, u'Naked Gun: From the Files of Police Squad!, The (1988)', 435)\n",
      "(4.0736012757455295, u'Plan 9 from Outer Space (1958)', 105)\n",
      "(4.039873448373331, u'Double Indemnity (1944)', 274)\n",
      "(4.031981033189572, u'Kingpin (1996)', 396)\n",
      "(4.025774584559731, u'Bride of Frankenstein (1935)', 91)\n",
      "(4.003670933783985, u'Nosferatu (Nosferatu, eine Symphonie des Grauens) (1922)', 115)\n",
      "(3.9937035986464333, u'Tales from the Crypt Presents: Bordello of Blood (1996)', 77)\n",
      "(3.9834325124387946, u'M (1931)', 149)\n",
      "(3.9656003220534854, u'Magnolia (1999)', 721)\n",
      "(3.935382526604238, u\"Rosemary's Baby (1968)\", 404)\n",
      "(3.933493403198517, u'Beyond the Mat (2000)', 99)\n"
     ]
    }
   ],
   "source": [
    "movieCountsRDD = (movieIDsWithAvgRatingsRDD\n",
    "                  .map(lambda (MovieID, (ratings, average)): (MovieID, ratings)) )\n",
    "\n",
    "predictedRDD = predictedRatingsRDD.map(lambda (uid, movie_id, rating): (movie_id, rating))\n",
    "\n",
    "predictedWithCountsRDD = (predictedRDD.join(movieCountsRDD))\n",
    "\n",
    "ratingsWithNamesRDD = (predictedWithCountsRDD\n",
    "                       .join(moviesRDD)\n",
    "                       .map(lambda (movieID, ((pred, ratings), name)): (pred, name, ratings) )\n",
    "                       .filter(lambda (pred, name, ratings): ratings > 75))\n",
    "\n",
    "predictedHighestRatedMovies = ratingsWithNamesRDD.takeOrdered(20, key=lambda x: -x[0])\n",
    "\n",
    "print ('My highest rated movies as predicted (for movies with more than 75 reviews):\\n%s' %\n",
    "        '\\n'.join(map(str, predictedHighestRatedMovies)))"
   ]
  }
 ],
 "metadata": {
  "kernelspec": {
   "display_name": "Python 2",
   "language": "python",
   "name": "python2"
  },
  "language_info": {
   "codemirror_mode": {
    "name": "ipython",
    "version": 2
   },
   "file_extension": ".py",
   "mimetype": "text/x-python",
   "name": "python",
   "nbconvert_exporter": "python",
   "pygments_lexer": "ipython2",
   "version": "2.7.6"
  }
 },
 "nbformat": 4,
 "nbformat_minor": 0
}
